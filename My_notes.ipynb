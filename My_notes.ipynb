{
 "cells": [
  {
   "cell_type": "markdown",
   "id": "aaa671c0-53fb-4315-ac4f-a5dfca0d7162",
   "metadata": {},
   "source": [
    "# 00-Object and data structures"
   ]
  },
  {
   "cell_type": "code",
   "execution_count": 3,
   "id": "9a17cceb-b862-4c69-b21b-cad4458ad287",
   "metadata": {},
   "outputs": [
    {
     "name": "stdout",
     "output_type": "stream",
     "text": [
      "1.75\n",
      "1\n",
      "3\n"
     ]
    }
   ],
   "source": [
    "# arithmitcs \n",
    "# dividend / divisor = quotient * divisor + remainder\n",
    "print(7/4)\n",
    "print(7//4) # get quotient\n",
    "print(7%4) # get remainder"
   ]
  },
  {
   "cell_type": "code",
   "execution_count": null,
   "id": "35b9cdae-48eb-4ca0-ad75-1dade8ad383b",
   "metadata": {},
   "outputs": [],
   "source": [
    "# list\n"
   ]
  }
 ],
 "metadata": {
  "kernelspec": {
   "display_name": "Python [conda env:base] *",
   "language": "python",
   "name": "conda-base-py"
  },
  "language_info": {
   "codemirror_mode": {
    "name": "ipython",
    "version": 3
   },
   "file_extension": ".py",
   "mimetype": "text/x-python",
   "name": "python",
   "nbconvert_exporter": "python",
   "pygments_lexer": "ipython3",
   "version": "3.12.7"
  }
 },
 "nbformat": 4,
 "nbformat_minor": 5
}
